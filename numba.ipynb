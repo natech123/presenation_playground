{
 "cells": [
  {
   "cell_type": "code",
   "execution_count": 4,
   "metadata": {},
   "outputs": [],
   "source": [
    "import pandas as pd\n",
    "import numpy as np\n",
    "from numba import jit"
   ]
  },
  {
   "cell_type": "code",
   "execution_count": 7,
   "metadata": {},
   "outputs": [],
   "source": [
    "def random_heavy_calculation() -> int:\n",
    "    a = np.random.randint(0,100)\n",
    "    b = np.random.randint(0,100)\n",
    "#   for run in range(n_runs):\n",
    "    c = 0\n",
    "    for run in range(100_000_000):\n",
    "        c += (a*b)\n",
    "    return c"
   ]
  },
  {
   "cell_type": "code",
   "execution_count": 8,
   "metadata": {},
   "outputs": [
    {
     "name": "stdout",
     "output_type": "stream",
     "text": [
      "CPU times: user 3.98 s, sys: 11.4 ms, total: 3.99 s\n",
      "Wall time: 3.99 s\n"
     ]
    },
    {
     "data": {
      "text/plain": [
       "46000000000"
      ]
     },
     "execution_count": 8,
     "metadata": {},
     "output_type": "execute_result"
    }
   ],
   "source": [
    "%%time \n",
    "\n",
    "random_heavy_calculation()"
   ]
  },
  {
   "cell_type": "code",
   "execution_count": 9,
   "metadata": {},
   "outputs": [],
   "source": [
    "@jit\n",
    "def random_heavy_calculation_2() -> int:\n",
    "    a = np.random.randint(0,100)\n",
    "    b = np.random.randint(0,100)\n",
    "#   for run in range(n_runs):\n",
    "    c = 0\n",
    "    for run in range(100_000_000):\n",
    "        c += (a*b)\n",
    "    return c"
   ]
  },
  {
   "cell_type": "code",
   "execution_count": 10,
   "metadata": {},
   "outputs": [
    {
     "name": "stdout",
     "output_type": "stream",
     "text": [
      "CPU times: user 31.2 ms, sys: 1.38 ms, total: 32.6 ms\n",
      "Wall time: 32 ms\n"
     ]
    },
    {
     "data": {
      "text/plain": [
       "34400000000"
      ]
     },
     "execution_count": 10,
     "metadata": {},
     "output_type": "execute_result"
    }
   ],
   "source": [
    "%%time\n",
    "random_heavy_calculation_2()"
   ]
  },
  {
   "cell_type": "code",
   "execution_count": null,
   "metadata": {},
   "outputs": [],
   "source": []
  }
 ],
 "metadata": {
  "kernelspec": {
   "display_name": "playground",
   "language": "python",
   "name": "python3"
  },
  "language_info": {
   "codemirror_mode": {
    "name": "ipython",
    "version": 3
   },
   "file_extension": ".py",
   "mimetype": "text/x-python",
   "name": "python",
   "nbconvert_exporter": "python",
   "pygments_lexer": "ipython3",
   "version": "3.10.6 (main, Jan 16 2023, 13:12:32) [Clang 14.0.0 (clang-1400.0.29.202)]"
  },
  "orig_nbformat": 4,
  "vscode": {
   "interpreter": {
    "hash": "51c6e88af65cb21288c513bb3e3ac5094a1f293d864090a3da3c3caaa7c116c6"
   }
  }
 },
 "nbformat": 4,
 "nbformat_minor": 2
}
