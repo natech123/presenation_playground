{
 "cells": [
  {
   "cell_type": "code",
   "execution_count": 2,
   "metadata": {},
   "outputs": [],
   "source": [
    "import polars as pl\n",
    "import pandas as pd\n",
    "from sklearn.datasets import load_iris"
   ]
  },
  {
   "cell_type": "code",
   "execution_count": 3,
   "metadata": {},
   "outputs": [],
   "source": [
    "iris_df = load_iris(as_frame=True)"
   ]
  },
  {
   "cell_type": "code",
   "execution_count": 4,
   "metadata": {},
   "outputs": [],
   "source": [
    "iris_pandas = iris_df['data']"
   ]
  },
  {
   "cell_type": "code",
   "execution_count": 4,
   "metadata": {},
   "outputs": [],
   "source": [
    "iris_polars = pl.DataFrame(iris_pandas)"
   ]
  },
  {
   "cell_type": "code",
   "execution_count": 5,
   "metadata": {},
   "outputs": [
    {
     "data": {
      "text/html": [
       "<div>\n",
       "<style scoped>\n",
       "    .dataframe tbody tr th:only-of-type {\n",
       "        vertical-align: middle;\n",
       "    }\n",
       "\n",
       "    .dataframe tbody tr th {\n",
       "        vertical-align: top;\n",
       "    }\n",
       "\n",
       "    .dataframe thead th {\n",
       "        text-align: right;\n",
       "    }\n",
       "\n",
       "    .dataframe td {\n",
       "        white-space: pre;\n",
       "    }\n",
       "\n",
       "    .dataframe td {\n",
       "        padding-top: 0;\n",
       "    }\n",
       "\n",
       "    .dataframe td {\n",
       "        padding-bottom: 0;\n",
       "    }\n",
       "</style>\n",
       "<table border=\"1\" class=\"dataframe\">\n",
       "<small>shape: (5, 4)</small>\n",
       "<thead>\n",
       "<tr>\n",
       "<th>\n",
       "sepal length (cm)\n",
       "</th>\n",
       "<th>\n",
       "sepal width (cm)\n",
       "</th>\n",
       "<th>\n",
       "petal length (cm)\n",
       "</th>\n",
       "<th>\n",
       "petal width (cm)\n",
       "</th>\n",
       "</tr>\n",
       "<tr>\n",
       "<td>\n",
       "f64\n",
       "</td>\n",
       "<td>\n",
       "f64\n",
       "</td>\n",
       "<td>\n",
       "f64\n",
       "</td>\n",
       "<td>\n",
       "f64\n",
       "</td>\n",
       "</tr>\n",
       "</thead>\n",
       "<tbody>\n",
       "<tr>\n",
       "<td>\n",
       "5.1\n",
       "</td>\n",
       "<td>\n",
       "3.5\n",
       "</td>\n",
       "<td>\n",
       "1.4\n",
       "</td>\n",
       "<td>\n",
       "0.2\n",
       "</td>\n",
       "</tr>\n",
       "<tr>\n",
       "<td>\n",
       "4.9\n",
       "</td>\n",
       "<td>\n",
       "3.0\n",
       "</td>\n",
       "<td>\n",
       "1.4\n",
       "</td>\n",
       "<td>\n",
       "0.2\n",
       "</td>\n",
       "</tr>\n",
       "<tr>\n",
       "<td>\n",
       "4.7\n",
       "</td>\n",
       "<td>\n",
       "3.2\n",
       "</td>\n",
       "<td>\n",
       "1.3\n",
       "</td>\n",
       "<td>\n",
       "0.2\n",
       "</td>\n",
       "</tr>\n",
       "<tr>\n",
       "<td>\n",
       "4.6\n",
       "</td>\n",
       "<td>\n",
       "3.1\n",
       "</td>\n",
       "<td>\n",
       "1.5\n",
       "</td>\n",
       "<td>\n",
       "0.2\n",
       "</td>\n",
       "</tr>\n",
       "<tr>\n",
       "<td>\n",
       "5.0\n",
       "</td>\n",
       "<td>\n",
       "3.6\n",
       "</td>\n",
       "<td>\n",
       "1.4\n",
       "</td>\n",
       "<td>\n",
       "0.2\n",
       "</td>\n",
       "</tr>\n",
       "</tbody>\n",
       "</table>\n",
       "</div>"
      ],
      "text/plain": [
       "shape: (5, 4)\n",
       "┌───────────────────┬──────────────────┬───────────────────┬──────────────────┐\n",
       "│ sepal length (cm) ┆ sepal width (cm) ┆ petal length (cm) ┆ petal width (cm) │\n",
       "│ ---               ┆ ---              ┆ ---               ┆ ---              │\n",
       "│ f64               ┆ f64              ┆ f64               ┆ f64              │\n",
       "╞═══════════════════╪══════════════════╪═══════════════════╪══════════════════╡\n",
       "│ 5.1               ┆ 3.5              ┆ 1.4               ┆ 0.2              │\n",
       "│ 4.9               ┆ 3.0              ┆ 1.4               ┆ 0.2              │\n",
       "│ 4.7               ┆ 3.2              ┆ 1.3               ┆ 0.2              │\n",
       "│ 4.6               ┆ 3.1              ┆ 1.5               ┆ 0.2              │\n",
       "│ 5.0               ┆ 3.6              ┆ 1.4               ┆ 0.2              │\n",
       "└───────────────────┴──────────────────┴───────────────────┴──────────────────┘"
      ]
     },
     "execution_count": 5,
     "metadata": {},
     "output_type": "execute_result"
    }
   ],
   "source": [
    "iris_polars.head(5)"
   ]
  },
  {
   "cell_type": "code",
   "execution_count": 6,
   "metadata": {},
   "outputs": [
    {
     "data": {
      "text/plain": [
       "['sepal length (cm)',\n",
       " 'sepal width (cm)',\n",
       " 'petal length (cm)',\n",
       " 'petal width (cm)']"
      ]
     },
     "execution_count": 6,
     "metadata": {},
     "output_type": "execute_result"
    }
   ],
   "source": [
    "iris_polars.columns"
   ]
  },
  {
   "cell_type": "code",
   "execution_count": 7,
   "metadata": {},
   "outputs": [
    {
     "data": {
      "text/plain": [
       "Index(['sepal length (cm)', 'sepal width (cm)', 'petal length (cm)',\n",
       "       'petal width (cm)'],\n",
       "      dtype='object')"
      ]
     },
     "execution_count": 7,
     "metadata": {},
     "output_type": "execute_result"
    }
   ],
   "source": [
    "iris_pandas.columns"
   ]
  },
  {
   "cell_type": "code",
   "execution_count": 1,
   "metadata": {},
   "outputs": [],
   "source": [
    "#Ratio of full size of sepal to full size of petal"
   ]
  },
  {
   "cell_type": "code",
   "execution_count": 8,
   "metadata": {},
   "outputs": [
    {
     "name": "stdout",
     "output_type": "stream",
     "text": [
      "CPU times: user 25.3 s, sys: 81 ms, total: 25.4 s\n",
      "Wall time: 25.4 s\n"
     ]
    }
   ],
   "source": [
    "%%time \n",
    "sepal_dvd_petal = []\n",
    "for i in range(10_000):\n",
    "    for row in iris_pandas.iterrows():\n",
    "        sepal_dvd_petal.append((row[1][0]*row[1][1])/(row[1][2]*row[1][3]))\n"
   ]
  },
  {
   "cell_type": "code",
   "execution_count": 10,
   "metadata": {},
   "outputs": [
    {
     "name": "stdout",
     "output_type": "stream",
     "text": [
      "CPU times: user 396 ms, sys: 8.94 ms, total: 405 ms\n",
      "Wall time: 404 ms\n"
     ]
    }
   ],
   "source": [
    "\n",
    "%%time\n",
    "sepal_dvd_petal = []\n",
    "for i in range(10_000):\n",
    "    for row in iris_polars.iterrows():\n",
    "        sepal_dvd_petal.append((row[0]*row[1])/(row[2]*row[3]))"
   ]
  }
 ],
 "metadata": {
  "kernelspec": {
   "display_name": "playground",
   "language": "python",
   "name": "python3"
  },
  "language_info": {
   "codemirror_mode": {
    "name": "ipython",
    "version": 3
   },
   "file_extension": ".py",
   "mimetype": "text/x-python",
   "name": "python",
   "nbconvert_exporter": "python",
   "pygments_lexer": "ipython3",
   "version": "3.10.6 (main, Jan 16 2023, 13:12:32) [Clang 14.0.0 (clang-1400.0.29.202)]"
  },
  "orig_nbformat": 4,
  "vscode": {
   "interpreter": {
    "hash": "51c6e88af65cb21288c513bb3e3ac5094a1f293d864090a3da3c3caaa7c116c6"
   }
  }
 },
 "nbformat": 4,
 "nbformat_minor": 2
}
