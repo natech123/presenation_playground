{
 "cells": [
  {
   "cell_type": "code",
   "execution_count": 2,
   "metadata": {},
   "outputs": [],
   "source": [
    "import polars as pl\n",
    "import pandas as pd\n",
    "from sklearn.datasets import load_iris"
   ]
  },
  {
   "cell_type": "code",
   "execution_count": 3,
   "metadata": {},
   "outputs": [],
   "source": [
    "iris_df = load_iris(as_frame=True)"
   ]
  },
  {
   "cell_type": "code",
   "execution_count": 4,
   "metadata": {},
   "outputs": [],
   "source": [
    "iris_pandas = iris_df['data']"
   ]
  },
  {
   "cell_type": "code",
   "execution_count": 4,
   "metadata": {},
   "outputs": [],
   "source": [
    "iris_polars = pl.DataFrame(iris_pandas)"
   ]
  },
  {
   "cell_type": "code",
   "execution_count": 5,
   "metadata": {},
   "outputs": [
    {
     "data": {
      "text/html": [
       "<div>\n",
       "<style scoped>\n",
       "    .dataframe tbody tr th:only-of-type {\n",
       "        vertical-align: middle;\n",
       "    }\n",
       "\n",
       "    .dataframe tbody tr th {\n",
       "        vertical-align: top;\n",
       "    }\n",
       "\n",
       "    .dataframe thead th {\n",
       "        text-align: right;\n",
       "    }\n",
       "\n",
       "    .dataframe td {\n",
       "        white-space: pre;\n",
       "    }\n",
       "\n",
       "    .dataframe td {\n",
       "        padding-top: 0;\n",
       "    }\n",
       "\n",
       "    .dataframe td {\n",
       "        padding-bottom: 0;\n",
       "    }\n",
       "</style>\n",
       "<table border=\"1\" class=\"dataframe\">\n",
       "<small>shape: (5, 4)</small>\n",
       "<thead>\n",
       "<tr>\n",
       "<th>\n",
       "sepal length (cm)\n",
       "</th>\n",
       "<th>\n",
       "sepal width (cm)\n",
       "</th>\n",
       "<th>\n",
       "petal length (cm)\n",
       "</th>\n",
       "<th>\n",
       "petal width (cm)\n",
       "</th>\n",
       "</tr>\n",
       "<tr>\n",
       "<td>\n",
       "f64\n",
       "</td>\n",
       "<td>\n",
       "f64\n",
       "</td>\n",
       "<td>\n",
       "f64\n",
       "</td>\n",
       "<td>\n",
       "f64\n",
       "</td>\n",
       "</tr>\n",
       "</thead>\n",
       "<tbody>\n",
       "<tr>\n",
       "<td>\n",
       "5.1\n",
       "</td>\n",
       "<td>\n",
       "3.5\n",
       "</td>\n",
       "<td>\n",
       "1.4\n",
       "</td>\n",
       "<td>\n",
       "0.2\n",
       "</td>\n",
       "</tr>\n",
       "<tr>\n",
       "<td>\n",
       "4.9\n",
       "</td>\n",
       "<td>\n",
       "3.0\n",
       "</td>\n",
       "<td>\n",
       "1.4\n",
       "</td>\n",
       "<td>\n",
       "0.2\n",
       "</td>\n",
       "</tr>\n",
       "<tr>\n",
       "<td>\n",
       "4.7\n",
       "</td>\n",
       "<td>\n",
       "3.2\n",
       "</td>\n",
       "<td>\n",
       "1.3\n",
       "</td>\n",
       "<td>\n",
       "0.2\n",
       "</td>\n",
       "</tr>\n",
       "<tr>\n",
       "<td>\n",
       "4.6\n",
       "</td>\n",
       "<td>\n",
       "3.1\n",
       "</td>\n",
       "<td>\n",
       "1.5\n",
       "</td>\n",
       "<td>\n",
       "0.2\n",
       "</td>\n",
       "</tr>\n",
       "<tr>\n",
       "<td>\n",
       "5.0\n",
       "</td>\n",
       "<td>\n",
       "3.6\n",
       "</td>\n",
       "<td>\n",
       "1.4\n",
       "</td>\n",
       "<td>\n",
       "0.2\n",
       "</td>\n",
       "</tr>\n",
       "</tbody>\n",
       "</table>\n",
       "</div>"
      ],
      "text/plain": [
       "shape: (5, 4)\n",
       "┌───────────────────┬──────────────────┬───────────────────┬──────────────────┐\n",
       "│ sepal length (cm) ┆ sepal width (cm) ┆ petal length (cm) ┆ petal width (cm) │\n",
       "│ ---               ┆ ---              ┆ ---               ┆ ---              │\n",
       "│ f64               ┆ f64              ┆ f64               ┆ f64              │\n",
       "╞═══════════════════╪══════════════════╪═══════════════════╪══════════════════╡\n",
       "│ 5.1               ┆ 3.5              ┆ 1.4               ┆ 0.2              │\n",
       "│ 4.9               ┆ 3.0              ┆ 1.4               ┆ 0.2              │\n",
       "│ 4.7               ┆ 3.2              ┆ 1.3               ┆ 0.2              │\n",
       "│ 4.6               ┆ 3.1              ┆ 1.5               ┆ 0.2              │\n",
       "│ 5.0               ┆ 3.6              ┆ 1.4               ┆ 0.2              │\n",
       "└───────────────────┴──────────────────┴───────────────────┴──────────────────┘"
      ]
     },
     "execution_count": 5,
     "metadata": {},
     "output_type": "execute_result"
    }
   ],
   "source": [
    "iris_polars.head(5)"
   ]
  },
  {
   "cell_type": "code",
   "execution_count": 6,
   "metadata": {},
   "outputs": [
    {
     "data": {
      "text/plain": [
       "['sepal length (cm)',\n",
       " 'sepal width (cm)',\n",
       " 'petal length (cm)',\n",
       " 'petal width (cm)']"
      ]
     },
     "execution_count": 6,
     "metadata": {},
     "output_type": "execute_result"
    }
   ],
   "source": [
    "iris_polars.columns"
   ]
  },
  {
   "cell_type": "code",
   "execution_count": 7,
   "metadata": {},
   "outputs": [
    {
     "data": {
      "text/plain": [
       "Index(['sepal length (cm)', 'sepal width (cm)', 'petal length (cm)',\n",
       "       'petal width (cm)'],\n",
       "      dtype='object')"
      ]
     },
     "execution_count": 7,
     "metadata": {},
     "output_type": "execute_result"
    }
   ],
   "source": [
    "iris_pandas.columns"
   ]
  },
  {
   "cell_type": "code",
   "execution_count": 8,
   "metadata": {},
   "outputs": [
    {
     "name": "stdout",
     "output_type": "stream",
     "text": [
      "CPU times: user 25.3 s, sys: 81 ms, total: 25.4 s\n",
      "Wall time: 25.4 s\n"
     ]
    }
   ],
   "source": [
    "%%time \n",
    "sepal_dvd_petal = []\n",
    "for i in range(10_000):\n",
    "    for row in iris_pandas.iterrows():\n",
    "        sepal_dvd_petal.append((row[1][0]*row[1][1])/(row[1][2]*row[1][3]))\n"
   ]
  },
  {
   "cell_type": "code",
   "execution_count": 10,
   "metadata": {},
   "outputs": [
    {
     "name": "stdout",
     "output_type": "stream",
     "text": [
      "CPU times: user 396 ms, sys: 8.94 ms, total: 405 ms\n",
      "Wall time: 404 ms\n"
     ]
    }
   ],
   "source": [
    "\n",
    "%%time\n",
    "sepal_dvd_petal = []\n",
    "for i in range(10_000):\n",
    "    for row in iris_polars.iterrows():\n",
    "        sepal_dvd_petal.append((row[0]*row[1])/(row[2]*row[3]))"
   ]
  },
  {
   "attachments": {},
   "cell_type": "markdown",
   "metadata": {},
   "source": [
    "## Vaex tester"
   ]
  },
  {
   "attachments": {},
   "cell_type": "markdown",
   "metadata": {},
   "source": [
    "probably only meant for really big datasets that don't fit in memory "
   ]
  },
  {
   "cell_type": "code",
   "execution_count": 1,
   "metadata": {},
   "outputs": [],
   "source": [
    "import vaex as v"
   ]
  },
  {
   "cell_type": "code",
   "execution_count": 10,
   "metadata": {},
   "outputs": [],
   "source": [
    "vaex_df = v.from_pandas(iris_pandas)"
   ]
  },
  {
   "cell_type": "code",
   "execution_count": 11,
   "metadata": {},
   "outputs": [
    {
     "data": {
      "text/html": [
       "<table>\n",
       "<thead>\n",
       "<tr><th>#                            </th><th style=\"text-align: right;\">  sepal length (cm)</th><th style=\"text-align: right;\">  sepal width (cm)</th><th style=\"text-align: right;\">  petal length (cm)</th><th style=\"text-align: right;\">  petal width (cm)</th></tr>\n",
       "</thead>\n",
       "<tbody>\n",
       "<tr><td><i style='opacity: 0.6'>0</i></td><td style=\"text-align: right;\">                5.1</td><td style=\"text-align: right;\">               3.5</td><td style=\"text-align: right;\">                1.4</td><td style=\"text-align: right;\">               0.2</td></tr>\n",
       "<tr><td><i style='opacity: 0.6'>1</i></td><td style=\"text-align: right;\">                4.9</td><td style=\"text-align: right;\">               3  </td><td style=\"text-align: right;\">                1.4</td><td style=\"text-align: right;\">               0.2</td></tr>\n",
       "<tr><td><i style='opacity: 0.6'>2</i></td><td style=\"text-align: right;\">                4.7</td><td style=\"text-align: right;\">               3.2</td><td style=\"text-align: right;\">                1.3</td><td style=\"text-align: right;\">               0.2</td></tr>\n",
       "<tr><td><i style='opacity: 0.6'>3</i></td><td style=\"text-align: right;\">                4.6</td><td style=\"text-align: right;\">               3.1</td><td style=\"text-align: right;\">                1.5</td><td style=\"text-align: right;\">               0.2</td></tr>\n",
       "<tr><td><i style='opacity: 0.6'>4</i></td><td style=\"text-align: right;\">                5  </td><td style=\"text-align: right;\">               3.6</td><td style=\"text-align: right;\">                1.4</td><td style=\"text-align: right;\">               0.2</td></tr>\n",
       "<tr><td><i style='opacity: 0.6'>5</i></td><td style=\"text-align: right;\">                5.4</td><td style=\"text-align: right;\">               3.9</td><td style=\"text-align: right;\">                1.7</td><td style=\"text-align: right;\">               0.4</td></tr>\n",
       "<tr><td><i style='opacity: 0.6'>6</i></td><td style=\"text-align: right;\">                4.6</td><td style=\"text-align: right;\">               3.4</td><td style=\"text-align: right;\">                1.4</td><td style=\"text-align: right;\">               0.3</td></tr>\n",
       "<tr><td><i style='opacity: 0.6'>7</i></td><td style=\"text-align: right;\">                5  </td><td style=\"text-align: right;\">               3.4</td><td style=\"text-align: right;\">                1.5</td><td style=\"text-align: right;\">               0.2</td></tr>\n",
       "<tr><td><i style='opacity: 0.6'>8</i></td><td style=\"text-align: right;\">                4.4</td><td style=\"text-align: right;\">               2.9</td><td style=\"text-align: right;\">                1.4</td><td style=\"text-align: right;\">               0.2</td></tr>\n",
       "<tr><td><i style='opacity: 0.6'>9</i></td><td style=\"text-align: right;\">                4.9</td><td style=\"text-align: right;\">               3.1</td><td style=\"text-align: right;\">                1.5</td><td style=\"text-align: right;\">               0.1</td></tr>\n",
       "</tbody>\n",
       "</table>"
      ],
      "text/plain": [
       "  #    sepal length (cm)    sepal width (cm)    petal length (cm)    petal width (cm)\n",
       "  0                  5.1                 3.5                  1.4                 0.2\n",
       "  1                  4.9                 3                    1.4                 0.2\n",
       "  2                  4.7                 3.2                  1.3                 0.2\n",
       "  3                  4.6                 3.1                  1.5                 0.2\n",
       "  4                  5                   3.6                  1.4                 0.2\n",
       "  5                  5.4                 3.9                  1.7                 0.4\n",
       "  6                  4.6                 3.4                  1.4                 0.3\n",
       "  7                  5                   3.4                  1.5                 0.2\n",
       "  8                  4.4                 2.9                  1.4                 0.2\n",
       "  9                  4.9                 3.1                  1.5                 0.1"
      ]
     },
     "execution_count": 11,
     "metadata": {},
     "output_type": "execute_result"
    }
   ],
   "source": [
    "vaex_df.head()"
   ]
  },
  {
   "cell_type": "code",
   "execution_count": 16,
   "metadata": {},
   "outputs": [
    {
     "ename": "KeyboardInterrupt",
     "evalue": "",
     "output_type": "error",
     "traceback": [
      "\u001b[0;31m---------------------------------------------------------------------------\u001b[0m",
      "\u001b[0;31mKeyboardInterrupt\u001b[0m                         Traceback (most recent call last)",
      "File \u001b[0;32m<timed exec>:3\u001b[0m\n",
      "File \u001b[0;32m~/.pyenv/versions/3.10.6/envs/playground/lib/python3.10/site-packages/vaex/dataframe.py:5531\u001b[0m, in \u001b[0;36mDataFrame.iterrows\u001b[0;34m(self)\u001b[0m\n\u001b[1;32m   5529\u001b[0m columns \u001b[39m=\u001b[39m \u001b[39mself\u001b[39m\u001b[39m.\u001b[39mget_column_names()\n\u001b[1;32m   5530\u001b[0m \u001b[39mfor\u001b[39;00m i \u001b[39min\u001b[39;00m \u001b[39mrange\u001b[39m(\u001b[39mlen\u001b[39m(\u001b[39mself\u001b[39m)):\n\u001b[0;32m-> 5531\u001b[0m     \u001b[39myield\u001b[39;00m i, {key: \u001b[39mself\u001b[39m\u001b[39m.\u001b[39mevaluate(key, i, i\u001b[39m+\u001b[39m\u001b[39m1\u001b[39m, array_type\u001b[39m=\u001b[39m\u001b[39m'\u001b[39m\u001b[39mpython\u001b[39m\u001b[39m'\u001b[39m)[\u001b[39m0\u001b[39m] \u001b[39mfor\u001b[39;00m key \u001b[39min\u001b[39;00m columns}\n",
      "File \u001b[0;32m~/.pyenv/versions/3.10.6/envs/playground/lib/python3.10/site-packages/vaex/dataframe.py:5531\u001b[0m, in \u001b[0;36m<dictcomp>\u001b[0;34m(.0)\u001b[0m\n\u001b[1;32m   5529\u001b[0m columns \u001b[39m=\u001b[39m \u001b[39mself\u001b[39m\u001b[39m.\u001b[39mget_column_names()\n\u001b[1;32m   5530\u001b[0m \u001b[39mfor\u001b[39;00m i \u001b[39min\u001b[39;00m \u001b[39mrange\u001b[39m(\u001b[39mlen\u001b[39m(\u001b[39mself\u001b[39m)):\n\u001b[0;32m-> 5531\u001b[0m     \u001b[39myield\u001b[39;00m i, {key: \u001b[39mself\u001b[39;49m\u001b[39m.\u001b[39;49mevaluate(key, i, i\u001b[39m+\u001b[39;49m\u001b[39m1\u001b[39;49m, array_type\u001b[39m=\u001b[39;49m\u001b[39m'\u001b[39;49m\u001b[39mpython\u001b[39;49m\u001b[39m'\u001b[39;49m)[\u001b[39m0\u001b[39m] \u001b[39mfor\u001b[39;00m key \u001b[39min\u001b[39;00m columns}\n",
      "File \u001b[0;32m~/.pyenv/versions/3.10.6/envs/playground/lib/python3.10/site-packages/vaex/dataframe.py:3095\u001b[0m, in \u001b[0;36mDataFrame.evaluate\u001b[0;34m(self, expression, i1, i2, out, selection, filtered, array_type, parallel, chunk_size, progress)\u001b[0m\n\u001b[1;32m   3093\u001b[0m     \u001b[39mreturn\u001b[39;00m \u001b[39mself\u001b[39m\u001b[39m.\u001b[39mevaluate_iterator(expression, s1\u001b[39m=\u001b[39mi1, s2\u001b[39m=\u001b[39mi2, out\u001b[39m=\u001b[39mout, selection\u001b[39m=\u001b[39mselection, filtered\u001b[39m=\u001b[39mfiltered, array_type\u001b[39m=\u001b[39marray_type, parallel\u001b[39m=\u001b[39mparallel, chunk_size\u001b[39m=\u001b[39mchunk_size, progress\u001b[39m=\u001b[39mprogress)\n\u001b[1;32m   3094\u001b[0m \u001b[39melse\u001b[39;00m:\n\u001b[0;32m-> 3095\u001b[0m     \u001b[39mreturn\u001b[39;00m \u001b[39mself\u001b[39;49m\u001b[39m.\u001b[39;49m_evaluate_implementation(expression, i1\u001b[39m=\u001b[39;49mi1, i2\u001b[39m=\u001b[39;49mi2, out\u001b[39m=\u001b[39;49mout, selection\u001b[39m=\u001b[39;49mselection, filtered\u001b[39m=\u001b[39;49mfiltered, array_type\u001b[39m=\u001b[39;49marray_type, parallel\u001b[39m=\u001b[39;49mparallel, chunk_size\u001b[39m=\u001b[39;49mchunk_size, progress\u001b[39m=\u001b[39;49mprogress)\n",
      "File \u001b[0;32m~/.pyenv/versions/3.10.6/envs/playground/lib/python3.10/site-packages/vaex/dataframe.py:6420\u001b[0m, in \u001b[0;36mDataFrameLocal._evaluate_implementation\u001b[0;34m(self, expression, i1, i2, out, selection, filtered, array_type, parallel, chunk_size, raw, progress)\u001b[0m\n\u001b[1;32m   6418\u001b[0m         df \u001b[39m=\u001b[39m df\u001b[39m.\u001b[39mtrim()\n\u001b[1;32m   6419\u001b[0m         df\u001b[39m.\u001b[39mset_active_range(i1, i2)\n\u001b[0;32m-> 6420\u001b[0m         df \u001b[39m=\u001b[39m df\u001b[39m.\u001b[39;49mtrim()\n\u001b[1;32m   6421\u001b[0m \u001b[39melse\u001b[39;00m:\n\u001b[1;32m   6422\u001b[0m     df \u001b[39m=\u001b[39m \u001b[39mself\u001b[39m\n",
      "File \u001b[0;32m~/.pyenv/versions/3.10.6/envs/playground/lib/python3.10/site-packages/vaex/dataframe.py:4402\u001b[0m, in \u001b[0;36mDataFrame.trim\u001b[0;34m(self, inplace)\u001b[0m\n\u001b[1;32m   4391\u001b[0m \u001b[39m@docsubst\u001b[39m\n\u001b[1;32m   4392\u001b[0m \u001b[39mdef\u001b[39;00m \u001b[39mtrim\u001b[39m(\u001b[39mself\u001b[39m, inplace\u001b[39m=\u001b[39m\u001b[39mFalse\u001b[39;00m):\n\u001b[1;32m   4393\u001b[0m \u001b[39m    \u001b[39m\u001b[39m'''Return a DataFrame, where all columns are 'trimmed' by the active range.\u001b[39;00m\n\u001b[1;32m   4394\u001b[0m \n\u001b[1;32m   4395\u001b[0m \u001b[39m    For the returned DataFrame, df.get_active_range() returns (0, df.length_original()).\u001b[39;00m\n\u001b[0;32m   (...)\u001b[0m\n\u001b[1;32m   4400\u001b[0m \u001b[39m    :rtype: DataFrame\u001b[39;00m\n\u001b[1;32m   4401\u001b[0m \u001b[39m    '''\u001b[39;00m\n\u001b[0;32m-> 4402\u001b[0m     df \u001b[39m=\u001b[39m \u001b[39mself\u001b[39m \u001b[39mif\u001b[39;00m inplace \u001b[39melse\u001b[39;00m \u001b[39mself\u001b[39;49m\u001b[39m.\u001b[39;49mcopy()\n\u001b[1;32m   4403\u001b[0m     \u001b[39mif\u001b[39;00m \u001b[39mself\u001b[39m\u001b[39m.\u001b[39m_index_start \u001b[39m==\u001b[39m \u001b[39m0\u001b[39m \u001b[39mand\u001b[39;00m \u001b[39mself\u001b[39m\u001b[39m.\u001b[39m_index_end \u001b[39m==\u001b[39m \u001b[39mself\u001b[39m\u001b[39m.\u001b[39m_length_original:\n\u001b[1;32m   4404\u001b[0m         \u001b[39mreturn\u001b[39;00m df\n",
      "File \u001b[0;32m~/.pyenv/versions/3.10.6/envs/playground/lib/python3.10/site-packages/vaex/dataframe.py:6003\u001b[0m, in \u001b[0;36mDataFrameLocal.copy\u001b[0;34m(self, column_names, treeshake)\u001b[0m\n\u001b[1;32m   6001\u001b[0m copy_all \u001b[39m=\u001b[39m column_names \u001b[39mis\u001b[39;00m \u001b[39mNone\u001b[39;00m\n\u001b[1;32m   6002\u001b[0m \u001b[39mif\u001b[39;00m copy_all \u001b[39mand\u001b[39;00m \u001b[39mnot\u001b[39;00m treeshake:  \u001b[39m# fast path\u001b[39;00m\n\u001b[0;32m-> 6003\u001b[0m     df \u001b[39m=\u001b[39m vaex\u001b[39m.\u001b[39;49mfrom_dataset(\u001b[39mself\u001b[39;49m\u001b[39m.\u001b[39;49mdataset)\n\u001b[1;32m   6004\u001b[0m     df\u001b[39m.\u001b[39mcolumn_names \u001b[39m=\u001b[39m \u001b[39mlist\u001b[39m(\u001b[39mself\u001b[39m\u001b[39m.\u001b[39mcolumn_names)\n\u001b[1;32m   6005\u001b[0m     df\u001b[39m.\u001b[39mvirtual_columns \u001b[39m=\u001b[39m \u001b[39mself\u001b[39m\u001b[39m.\u001b[39mvirtual_columns\u001b[39m.\u001b[39mcopy()\n",
      "File \u001b[0;32m~/.pyenv/versions/3.10.6/envs/playground/lib/python3.10/site-packages/vaex/__init__.py:402\u001b[0m, in \u001b[0;36mfrom_dataset\u001b[0;34m(dataset)\u001b[0m\n\u001b[1;32m    400\u001b[0m \u001b[39mdef\u001b[39;00m \u001b[39mfrom_dataset\u001b[39m(dataset: vaex\u001b[39m.\u001b[39mdataset\u001b[39m.\u001b[39mDataset) \u001b[39m-\u001b[39m\u001b[39m>\u001b[39m vaex\u001b[39m.\u001b[39mdataframe\u001b[39m.\u001b[39mDataFrame:\n\u001b[1;32m    401\u001b[0m \u001b[39m    \u001b[39m\u001b[39m'''Create a Vaex DataFrame from a Vaex Dataset'''\u001b[39;00m\n\u001b[0;32m--> 402\u001b[0m     \u001b[39mreturn\u001b[39;00m vaex\u001b[39m.\u001b[39;49mdataframe\u001b[39m.\u001b[39;49mDataFrameLocal(dataset)\n",
      "File \u001b[0;32m~/.pyenv/versions/3.10.6/envs/playground/lib/python3.10/site-packages/vaex/dataframe.py:5729\u001b[0m, in \u001b[0;36mDataFrameLocal.__init__\u001b[0;34m(self, dataset, name)\u001b[0m\n\u001b[1;32m   5727\u001b[0m \u001b[39mself\u001b[39m\u001b[39m.\u001b[39mcolumns \u001b[39m=\u001b[39m ColumnProxy(\u001b[39mself\u001b[39m)\n\u001b[1;32m   5728\u001b[0m \u001b[39mfor\u001b[39;00m column_name \u001b[39min\u001b[39;00m \u001b[39mself\u001b[39m\u001b[39m.\u001b[39mcolumn_names:\n\u001b[0;32m-> 5729\u001b[0m     \u001b[39mself\u001b[39;49m\u001b[39m.\u001b[39;49m_initialize_column(column_name)\n",
      "File \u001b[0;32m~/.pyenv/versions/3.10.6/envs/playground/lib/python3.10/site-packages/vaex/dataframe.py:3496\u001b[0m, in \u001b[0;36mDataFrame._initialize_column\u001b[0;34m(self, name)\u001b[0m\n\u001b[1;32m   3495\u001b[0m \u001b[39mdef\u001b[39;00m \u001b[39m_initialize_column\u001b[39m(\u001b[39mself\u001b[39m, name):\n\u001b[0;32m-> 3496\u001b[0m     \u001b[39mself\u001b[39;49m\u001b[39m.\u001b[39;49m_save_assign_expression(name)\n",
      "File \u001b[0;32m~/.pyenv/versions/3.10.6/envs/playground/lib/python3.10/site-packages/vaex/dataframe.py:3523\u001b[0m, in \u001b[0;36mDataFrame._save_assign_expression\u001b[0;34m(self, name, expression)\u001b[0m\n\u001b[1;32m   3521\u001b[0m \u001b[39mif\u001b[39;00m \u001b[39misinstance\u001b[39m(expression, \u001b[39mstr\u001b[39m):\n\u001b[1;32m   3522\u001b[0m     expression \u001b[39m=\u001b[39m vaex\u001b[39m.\u001b[39mutils\u001b[39m.\u001b[39mvalid_expression(\u001b[39mself\u001b[39m\u001b[39m.\u001b[39mget_column_names(hidden\u001b[39m=\u001b[39m\u001b[39mTrue\u001b[39;00m), expression)\n\u001b[0;32m-> 3523\u001b[0m     expression \u001b[39m=\u001b[39m Expression(\u001b[39mself\u001b[39;49m, expression)\n\u001b[1;32m   3524\u001b[0m \u001b[39msetattr\u001b[39m(\u001b[39mself\u001b[39m, name, expression)\n",
      "File \u001b[0;32m~/.pyenv/versions/3.10.6/envs/playground/lib/python3.10/site-packages/vaex/expression.py:402\u001b[0m, in \u001b[0;36mExpression.__init__\u001b[0;34m(self, ds, expression, ast, _selection)\u001b[0m\n\u001b[1;32m    400\u001b[0m \u001b[39mself\u001b[39m\u001b[39m.\u001b[39m_ast \u001b[39m=\u001b[39m ast\n\u001b[1;32m    401\u001b[0m \u001b[39mself\u001b[39m\u001b[39m.\u001b[39m_expression \u001b[39m=\u001b[39m expression\n\u001b[0;32m--> 402\u001b[0m \u001b[39mself\u001b[39;49m\u001b[39m.\u001b[39;49mdf\u001b[39m.\u001b[39m_expressions\u001b[39m.\u001b[39mappend(weakref\u001b[39m.\u001b[39mref(\u001b[39mself\u001b[39m))\n\u001b[1;32m    403\u001b[0m \u001b[39mself\u001b[39m\u001b[39m.\u001b[39m_ast_names \u001b[39m=\u001b[39m \u001b[39mNone\u001b[39;00m\n\u001b[1;32m    404\u001b[0m \u001b[39mself\u001b[39m\u001b[39m.\u001b[39m_selection \u001b[39m=\u001b[39m _selection\n",
      "File \u001b[0;32m~/.pyenv/versions/3.10.6/envs/playground/lib/python3.10/site-packages/vaex/expression.py:499\u001b[0m, in \u001b[0;36mExpression.df\u001b[0;34m(self)\u001b[0m\n\u001b[1;32m    495\u001b[0m         \u001b[39mreturn\u001b[39;00m expresso\u001b[39m.\u001b[39mnode_to_string(\u001b[39mself\u001b[39m\u001b[39m.\u001b[39mast\u001b[39m.\u001b[39mleft) \u001b[39m!=\u001b[39m expresso\u001b[39m.\u001b[39mnode_to_string(\u001b[39mself\u001b[39m\u001b[39m.\u001b[39mast\u001b[39m.\u001b[39mcomparators[\u001b[39m0\u001b[39m])\n\u001b[1;32m    496\u001b[0m     \u001b[39mreturn\u001b[39;00m \u001b[39mTrue\u001b[39;00m\n\u001b[0;32m--> 499\u001b[0m \u001b[39m@property\u001b[39m\n\u001b[1;32m    500\u001b[0m \u001b[39mdef\u001b[39;00m \u001b[39mdf\u001b[39m(\u001b[39mself\u001b[39m):\n\u001b[1;32m    501\u001b[0m     \u001b[39m# lets gradually move to using .df\u001b[39;00m\n\u001b[1;32m    502\u001b[0m     \u001b[39mreturn\u001b[39;00m \u001b[39mself\u001b[39m\u001b[39m.\u001b[39mds\n\u001b[1;32m    504\u001b[0m \u001b[39m@property\u001b[39m\n\u001b[1;32m    505\u001b[0m \u001b[39mdef\u001b[39;00m \u001b[39mdtype\u001b[39m(\u001b[39mself\u001b[39m):\n",
      "\u001b[0;31mKeyboardInterrupt\u001b[0m: "
     ]
    }
   ],
   "source": [
    "%%time\n",
    "sepal_dvd_petal = []\n",
    "for i in range(10_000):\n",
    "    for row in vaex_df.iterrows():\n",
    "        sepal_dvd_petal.append((row[1]['sepal length (cm)']*row[1]['sepal width (cm)'])/(row[1]['petal length (cm)']*row[1]['petal width (cm)']))"
   ]
  },
  {
   "cell_type": "code",
   "execution_count": null,
   "metadata": {},
   "outputs": [],
   "source": []
  }
 ],
 "metadata": {
  "kernelspec": {
   "display_name": "playground",
   "language": "python",
   "name": "python3"
  },
  "language_info": {
   "codemirror_mode": {
    "name": "ipython",
    "version": 3
   },
   "file_extension": ".py",
   "mimetype": "text/x-python",
   "name": "python",
   "nbconvert_exporter": "python",
   "pygments_lexer": "ipython3",
   "version": "3.10.6"
  },
  "orig_nbformat": 4,
  "vscode": {
   "interpreter": {
    "hash": "51c6e88af65cb21288c513bb3e3ac5094a1f293d864090a3da3c3caaa7c116c6"
   }
  }
 },
 "nbformat": 4,
 "nbformat_minor": 2
}
