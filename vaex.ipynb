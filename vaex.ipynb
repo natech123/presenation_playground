{
 "cells": [
  {
   "cell_type": "code",
   "execution_count": null,
   "metadata": {},
   "outputs": [],
   "source": []
  }
 ],
 "metadata": {
  "kernelspec": {
   "display_name": "playground",
   "language": "python",
   "name": "python3"
  },
  "language_info": {
   "name": "python",
   "version": "3.10.6 (main, Jan 16 2023, 13:12:32) [Clang 14.0.0 (clang-1400.0.29.202)]"
  },
  "orig_nbformat": 4,
  "vscode": {
   "interpreter": {
    "hash": "51c6e88af65cb21288c513bb3e3ac5094a1f293d864090a3da3c3caaa7c116c6"
   }
  }
 },
 "nbformat": 4,
 "nbformat_minor": 2
}
