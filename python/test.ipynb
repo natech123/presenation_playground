{
 "cells": [
  {
   "cell_type": "code",
   "execution_count": 1,
   "metadata": {},
   "outputs": [],
   "source": [
    "import numpy as np"
   ]
  },
  {
   "cell_type": "code",
   "execution_count": 2,
   "metadata": {},
   "outputs": [],
   "source": [
    "def calculation():\n",
    "    a = np.random.randint(0,100)\n",
    "    b = np.random.randint(0,100)\n",
    "    c = 0\n",
    "    for i in range(100_000_000):\n",
    "        c += a*b\n",
    "    \n",
    "    return c"
   ]
  },
  {
   "cell_type": "code",
   "execution_count": 3,
   "metadata": {},
   "outputs": [
    {
     "name": "stdout",
     "output_type": "stream",
     "text": [
      "CPU times: user 3.48 s, sys: 9.79 ms, total: 3.49 s\n",
      "Wall time: 3.49 s\n"
     ]
    },
    {
     "data": {
      "text/plain": [
       "712800000000"
      ]
     },
     "execution_count": 3,
     "metadata": {},
     "output_type": "execute_result"
    }
   ],
   "source": [
    "%%time\n",
    "calculation()"
   ]
  },
  {
   "cell_type": "code",
   "execution_count": 4,
   "metadata": {},
   "outputs": [],
   "source": [
    "import dis"
   ]
  },
  {
   "cell_type": "code",
   "execution_count": 5,
   "metadata": {},
   "outputs": [
    {
     "name": "stdout",
     "output_type": "stream",
     "text": [
      "  1           0 RESUME                   0\n",
      "\n",
      "  2           2 LOAD_GLOBAL              0 (np)\n",
      "             14 LOAD_ATTR                1 (random)\n",
      "             24 LOAD_METHOD              2 (randint)\n",
      "             46 LOAD_CONST               1 (0)\n",
      "             48 LOAD_CONST               2 (100)\n",
      "             50 PRECALL                  2\n",
      "             54 CALL                     2\n",
      "             64 STORE_FAST               0 (a)\n",
      "\n",
      "  3          66 LOAD_GLOBAL              0 (np)\n",
      "             78 LOAD_ATTR                1 (random)\n",
      "             88 LOAD_METHOD              2 (randint)\n",
      "            110 LOAD_CONST               1 (0)\n",
      "            112 LOAD_CONST               2 (100)\n",
      "            114 PRECALL                  2\n",
      "            118 CALL                     2\n",
      "            128 STORE_FAST               1 (b)\n",
      "\n",
      "  4         130 LOAD_CONST               1 (0)\n",
      "            132 STORE_FAST               2 (c)\n",
      "\n",
      "  5         134 LOAD_GLOBAL              7 (NULL + range)\n",
      "            146 LOAD_CONST               3 (100000000)\n",
      "            148 PRECALL                  1\n",
      "            152 CALL                     1\n",
      "            162 GET_ITER\n",
      "        >>  164 FOR_ITER                10 (to 186)\n",
      "            166 STORE_FAST               3 (i)\n",
      "\n",
      "  6         168 LOAD_FAST                2 (c)\n",
      "            170 LOAD_FAST                0 (a)\n",
      "            172 LOAD_FAST                1 (b)\n",
      "            174 BINARY_OP                5 (*)\n",
      "            178 BINARY_OP               13 (+=)\n",
      "            182 STORE_FAST               2 (c)\n",
      "            184 JUMP_BACKWARD           11 (to 164)\n",
      "\n",
      "  8     >>  186 LOAD_FAST                2 (c)\n",
      "            188 RETURN_VALUE\n",
      "\n"
     ]
    }
   ],
   "source": [
    "print(dis.Bytecode(calculation).dis())"
   ]
  },
  {
   "cell_type": "code",
   "execution_count": 12,
   "metadata": {},
   "outputs": [
    {
     "name": "stdout",
     "output_type": "stream",
     "text": [
      "Name:              calculation\n",
      "Filename:          /var/folders/48/8swc7thd1_zdygm4hdwzdxx00000gq/T/ipykernel_4684/3422471122.py\n",
      "Argument count:    0\n",
      "Positional-only arguments: 0\n",
      "Kw-only arguments: 0\n",
      "Number of locals:  4\n",
      "Stack size:        4\n",
      "Flags:             OPTIMIZED, NEWLOCALS\n",
      "Constants:\n",
      "   0: None\n",
      "   1: 0\n",
      "   2: 100\n",
      "   3: 100000000\n",
      "Names:\n",
      "   0: np\n",
      "   1: random\n",
      "   2: randint\n",
      "   3: range\n",
      "Variable names:\n",
      "   0: a\n",
      "   1: b\n",
      "   2: c\n",
      "   3: i\n"
     ]
    }
   ],
   "source": [
    "dis.show_code(calculation)"
   ]
  },
  {
   "cell_type": "code",
   "execution_count": 14,
   "metadata": {},
   "outputs": [
    {
     "data": {
      "text/plain": [
       "<code object calculation at 0x1079f2eb0, file \"/var/folders/48/8swc7thd1_zdygm4hdwzdxx00000gq/T/ipykernel_4684/3422471122.py\", line 1>"
      ]
     },
     "execution_count": 14,
     "metadata": {},
     "output_type": "execute_result"
    }
   ],
   "source": [
    "dis.Bytecode(calculation).codeobj"
   ]
  },
  {
   "cell_type": "code",
   "execution_count": null,
   "metadata": {},
   "outputs": [],
   "source": []
  }
 ],
 "metadata": {
  "kernelspec": {
   "display_name": "test",
   "language": "python",
   "name": "python3"
  },
  "language_info": {
   "codemirror_mode": {
    "name": "ipython",
    "version": 3
   },
   "file_extension": ".py",
   "mimetype": "text/x-python",
   "name": "python",
   "nbconvert_exporter": "python",
   "pygments_lexer": "ipython3",
   "version": "3.11.1 (main, Jan 17 2023, 14:03:15) [Clang 14.0.0 (clang-1400.0.29.202)]"
  },
  "orig_nbformat": 4,
  "vscode": {
   "interpreter": {
    "hash": "419657f84e8362a9943e871343856f8360049748e3a176bd81fde08e99c69330"
   }
  }
 },
 "nbformat": 4,
 "nbformat_minor": 2
}
